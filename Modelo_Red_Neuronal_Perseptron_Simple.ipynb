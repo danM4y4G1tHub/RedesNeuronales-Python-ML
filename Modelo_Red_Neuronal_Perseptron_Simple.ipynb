{
  "nbformat": 4,
  "nbformat_minor": 0,
  "metadata": {
    "colab": {
      "provenance": [],
      "authorship_tag": "ABX9TyPjL8Je80Nw07pi7qwlVKix",
      "include_colab_link": true
    },
    "kernelspec": {
      "name": "python3",
      "display_name": "Python 3"
    },
    "language_info": {
      "name": "python"
    }
  },
  "cells": [
    {
      "cell_type": "markdown",
      "metadata": {
        "id": "view-in-github",
        "colab_type": "text"
      },
      "source": [
        "<a href=\"https://colab.research.google.com/github/danM4y4G1tHub/RedesNeuronales-Python-ML/blob/main/Modelo_Red_Neuronal_Perseptron_Simple.ipynb\" target=\"_parent\"><img src=\"https://colab.research.google.com/assets/colab-badge.svg\" alt=\"Open In Colab\"/></a>"
      ]
    },
    {
      "cell_type": "code",
      "execution_count": 2,
      "metadata": {
        "id": "y3AfRQNCfzak"
      },
      "outputs": [],
      "source": [
        "import tensorflow as tf\n",
        "import numpy as np"
      ]
    },
    {
      "cell_type": "code",
      "source": [
        "celsius = np.array([-40, -10, 0, 8, 15, 22, 38], dtype=float)\n",
        "farenheit = np.array([-40, 14, 32, 46, 59, 72 , 100], dtype=float)"
      ],
      "metadata": {
        "id": "8zHjDRP1gJvF"
      },
      "execution_count": 4,
      "outputs": []
    },
    {
      "cell_type": "code",
      "source": [
        "#Se crea una capa densa que son las que todas las neuronas\n",
        "# tienen conexiones entre si\n",
        "#Parametro 1: Cantidad de neuronas por capa\n",
        "#Parametro 2: Cantidad de neuronas de entrada\n",
        "# capa = tf.keras.layers.Dense(units=1, input_shape=[1])\n",
        "#modelo = tf.keras.Sequential([capa])\n",
        "\n",
        "#Probando con capas ocultas\n",
        "oculta1 = tf.keras.layers.Dense(units=3, input_shape=[1])\n",
        "oculta2 = tf.keras.layers.Dense(units=3)\n",
        "salida = tf.keras.layers.Dense(units=1)\n",
        "modelo = tf.keras.Sequential([oculta1, oculta2, salida])"
      ],
      "metadata": {
        "id": "fbURVtDxgzk_"
      },
      "execution_count": 22,
      "outputs": []
    },
    {
      "cell_type": "code",
      "source": [
        "# En el compilador le digo como quiero que procese las matematicas para\n",
        "#trabajar mejor\n",
        "#Parametro 1: optimizador (se usa Adam que le dice a al red como ajustar)\n",
        "# los pesos de manera eficiente\n",
        "  #Adam()\n",
        "    #Parametro: tasa de aprendisaje, debe ser pequeño\n",
        "#Parametro 2: funcion de perdida\n",
        "modelo.compile(\n",
        "    optimizer=tf.keras.optimizers.Adam(0.1),\n",
        "    loss='mean_squared_error'\n",
        ")"
      ],
      "metadata": {
        "id": "Jh8pDg0uh4oa"
      },
      "execution_count": 23,
      "outputs": []
    },
    {
      "cell_type": "code",
      "source": [
        "print(\"Comenzando entrenamiento...\")\n",
        "#Para el entrenamiento de usa la funcion fit\n",
        "#Parametro 1: Datos de entrada\n",
        "#Parametro 2: Datos de salida\n",
        "#Parametro 3: Cantidad de vueltas para entrenar\n",
        "historial = modelo.fit(celsius, farenheit, epochs=1000, verbose=False)\n",
        "print(\"Modelo entrenado\")"
      ],
      "metadata": {
        "colab": {
          "base_uri": "https://localhost:8080/"
        },
        "id": "8ajCxfuPi_zY",
        "outputId": "85eab17c-e5b9-4531-d176-3700ae14df98"
      },
      "execution_count": 25,
      "outputs": [
        {
          "output_type": "stream",
          "name": "stdout",
          "text": [
            "Comenzando entrenamiento...\n",
            "Modelo entrenado\n"
          ]
        }
      ]
    },
    {
      "cell_type": "code",
      "source": [
        "import matplotlib.pyplot as plt\n",
        "plt.xlabel(\"# Epoca\")\n",
        "plt.ylabel(\"Magnitud de perdida\")\n",
        "plt.plot(historial.history[\"loss\"])"
      ],
      "metadata": {
        "colab": {
          "base_uri": "https://localhost:8080/",
          "height": 466
        },
        "id": "eMsoFhFflh6-",
        "outputId": "c1697804-a77b-4658-a564-840786072be7"
      },
      "execution_count": 26,
      "outputs": [
        {
          "output_type": "execute_result",
          "data": {
            "text/plain": [
              "[<matplotlib.lines.Line2D at 0x782739209db0>]"
            ]
          },
          "metadata": {},
          "execution_count": 26
        },
        {
          "output_type": "display_data",
          "data": {
            "text/plain": [
              "<Figure size 640x480 with 1 Axes>"
            ],
            "image/png": "[encoded data removed]"
          },
          "metadata": {}
        }
      ]
    },
    {
      "cell_type": "code",
      "source": [
        "print(\"Hagamos predicción!\")\n",
        "resultado  = modelo.predict([100.0])\n",
        "print(\"El resultado es \" + str(resultado) + \"farenheit\")"
      ],
      "metadata": {
        "colab": {
          "base_uri": "https://localhost:8080/"
        },
        "id": "CoKCUCVJmnCv",
        "outputId": "e429dd15-2ec1-4b20-d7cc-068c4c3b2bb2"
      },
      "execution_count": 20,
      "outputs": [
        {
          "output_type": "stream",
          "name": "stdout",
          "text": [
            "Hagamos predicción!\n",
            "1/1 [==============================] - 0s 104ms/step\n",
            "El resultado es [[211.74045]]farenheit\n"
          ]
        }
      ]
    },
    {
      "cell_type": "code",
      "source": [
        "#Para ver que datos de sesgo y pesos se guardaron al hacer la predicción\n",
        "print(\"Variables internas del modelo\")\n",
        "#print(capa.get_weights())\n",
        "#Parametros de salida en el arreglo\n",
        "#Parametro 1: Peso\n",
        "#Parametro 2: Sesgo\n",
        "\n",
        "print(oculta1.get_weights())\n",
        "print(oculta2.get_weights())\n",
        "print(salida.get_weights())"
      ],
      "metadata": {
        "colab": {
          "base_uri": "https://localhost:8080/"
        },
        "id": "JtWh01QUnIo5",
        "outputId": "6b4693b2-a2ed-471f-ca85-71b0527bfa65"
      },
      "execution_count": 27,
      "outputs": [
        {
          "output_type": "stream",
          "name": "stdout",
          "text": [
            "Variables internas del modelo\n",
            "[array([[ 0.240174  ,  0.70828724, -0.19633967]], dtype=float32), array([-2.4274235,  3.5852594,  1.9151138], dtype=float32)]\n",
            "[array([[ 0.7062168 ,  0.19182485, -0.47132832],\n",
            "       [-1.3851942 ,  0.10823302,  1.40642   ],\n",
            "       [-0.94965744,  0.06085374,  0.345903  ]], dtype=float32), array([-3.509169 , -2.588847 ,  3.3478248], dtype=float32)]\n",
            "[array([[-1.0497199 ],\n",
            "       [-0.47845986],\n",
            "       [ 1.4659905 ]], dtype=float32), array([3.178646], dtype=float32)]\n"
          ]
        }
      ]
    }
  ]
}